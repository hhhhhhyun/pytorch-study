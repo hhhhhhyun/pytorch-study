{
 "cells": [
  {
   "cell_type": "markdown",
   "metadata": {},
   "source": [
    "## 02. 텐서의 연산"
   ]
  },
  {
   "cell_type": "code",
   "execution_count": 1,
   "metadata": {},
   "outputs": [],
   "source": [
    "import torch"
   ]
  },
  {
   "cell_type": "markdown",
   "metadata": {},
   "source": [
    "### 2-1. 산술 연산"
   ]
  },
  {
   "cell_type": "code",
   "execution_count": 4,
   "metadata": {},
   "outputs": [
    {
     "name": "stdout",
     "output_type": "stream",
     "text": [
      "tensor([[0.6506, 0.9281],\n",
      "        [0.5726, 0.4979]])\n",
      "tensor([[1.3013, 1.8562],\n",
      "        [1.1452, 0.9959]])\n",
      "tensor([[2.3013, 2.8562],\n",
      "        [2.1452, 1.9959]])\n"
     ]
    }
   ],
   "source": [
    "tensor = torch.rand(2,2)\n",
    "print(tensor)\n",
    "\n",
    "tensor = tensor * 2\n",
    "print(tensor)\n",
    "\n",
    "tensor = tensor + 1\n",
    "print(tensor)"
   ]
  },
  {
   "cell_type": "code",
   "execution_count": null,
   "metadata": {},
   "outputs": [
    {
     "name": "stdout",
     "output_type": "stream",
     "text": [
      "tensor([[0.9349, 0.7672],\n",
      "        [0.4171, 0.7180]]) tensor([[0.2591, 0.6562],\n",
      "        [0.9222, 0.5638]])\n",
      "tensor([[1.1940, 1.4234],\n",
      "        [1.3393, 1.2818]])\n",
      "tensor([[1.1940, 1.4234],\n",
      "        [1.3393, 1.2818]])\n"
     ]
    }
   ],
   "source": [
    "# 더하기\n",
    "x = torch.rand(2,2)\n",
    "y = torch.rand(2,2)\n",
    "add = torch.add(x,y)\n",
    "print(x, y)\n",
    "print(x+y)\n",
    "print(add)\n",
    "\n",
    "# in-place 바꿔치기 연산\n",
    "add = torch.add(x)\n",
    "print(add)\n",
    "y.add_(x)\n",
    "print(y)    "
   ]
  },
  {
   "cell_type": "code",
   "execution_count": 7,
   "metadata": {},
   "outputs": [
    {
     "name": "stdout",
     "output_type": "stream",
     "text": [
      "tensor([[ 0.0726,  0.2121],\n",
      "        [ 0.1356, -0.1724]])\n",
      "tensor([[ 0.0726,  0.2121],\n",
      "        [ 0.1356, -0.1724]])\n"
     ]
    }
   ],
   "source": [
    "# 빼기\n",
    "x = torch.rand(2,2)\n",
    "y = torch.rand(2,2)\n",
    "sub = torch.sub(x,y)\n",
    "print(x-y)\n",
    "print(sub)"
   ]
  },
  {
   "cell_type": "code",
   "execution_count": 9,
   "metadata": {},
   "outputs": [
    {
     "name": "stdout",
     "output_type": "stream",
     "text": [
      "tensor([[0.4897, 0.4615],\n",
      "        [0.4303, 0.6742]])\n",
      "tensor([[0.4897, 0.4615],\n",
      "        [0.4303, 0.6742]])\n"
     ]
    }
   ],
   "source": [
    "# 곱하기\n",
    "x = torch.rand(2,2)\n",
    "y = torch.rand(2,2)\n",
    "mul = torch.mul(x,y)\n",
    "print(x*y)\n",
    "print(mul)"
   ]
  },
  {
   "cell_type": "code",
   "execution_count": 8,
   "metadata": {},
   "outputs": [
    {
     "name": "stdout",
     "output_type": "stream",
     "text": [
      "tensor([[0.1665, 0.6895],\n",
      "        [0.7111, 1.0658]])\n",
      "tensor([[0.1665, 0.6895],\n",
      "        [0.7111, 1.0658]])\n"
     ]
    }
   ],
   "source": [
    "# 나누기\n",
    "x = torch.rand(2,2)\n",
    "y = torch.rand(2,2)\n",
    "div = torch.div(x,y)\n",
    "print(x/y)\n",
    "print(div)"
   ]
  },
  {
   "cell_type": "markdown",
   "metadata": {},
   "source": [
    "### 2-2. 각종 연산"
   ]
  },
  {
   "cell_type": "code",
   "execution_count": 11,
   "metadata": {},
   "outputs": [
    {
     "name": "stdout",
     "output_type": "stream",
     "text": [
      "절대값 : tensor(10)\n",
      "올림 : tensor(-3.)\n",
      "반올림 : tensor(-3.)\n",
      "내림 : tensor(-4.)\n",
      "클램프 : tensor([[ 0.3035, -0.5000],\n",
      "        [ 0.1474, -0.5000]])\n",
      "클램프 : tensor([[ 0.3035, -0.5000],\n",
      "        [ 0.1474, -0.5000]])\n"
     ]
    }
   ],
   "source": [
    "a = torch.tensor(-10)\n",
    "print(\"절대값 :\", torch.abs(a))\n",
    "\n",
    "b = torch.tensor(-3.3)\n",
    "print(\"올림 :\", torch.ceil(b)) # ceil : 올림\n",
    "print(\"반올림 :\", torch.round(b)) # round : 반올림\n",
    "print(\"내림 :\", torch.floor(b)) # floor : 내림\n",
    "\n",
    "c = torch.randn(2,2)\n",
    "print(\"클램프 :\", torch.clamp(c, -0.5, 0.5)) # 0.5 값을 초과하는 건 다 0.5 값으로 맞춰주는 것, -0.5도 마찬가지\n",
    "d = torch.tensor([[0.8, 0.3], [0.7,0.5]])\n",
    "print(\"클램프 :\", torch.clamp(c, -0.5, 0.5))"
   ]
  },
  {
   "cell_type": "code",
   "execution_count": 12,
   "metadata": {},
   "outputs": [
    {
     "name": "stdout",
     "output_type": "stream",
     "text": [
      "최솟값:  tensor(0.5000)\n",
      "최대값:  tensor(-0.2104)\n",
      "평균:  tensor(0.8341)\n",
      "표준편차:  tensor(-0.8417)\n",
      "\n",
      "\n",
      "모든 원소의 합:  tensor([4, 6])\n",
      "모든 원소의 곱:  tensor(24)\n",
      "중복된 값 제거:  tensor([1, 2, 3, 4])\n"
     ]
    }
   ],
   "source": [
    "x= torch.randn(2,2)\n",
    "y = torch.tensor([[1,2],[3,4]])\n",
    "print(\"최솟값: \", torch.max(x))\n",
    "print(\"최대값: \", torch.mean(x))\n",
    "print(\"평균: \", torch.std(x))\n",
    "print(\"표준편차: \", torch.sum(x)) \n",
    "print(\"\\n\")\n",
    "print(\"모든 원소의 합: \", torch.sum(y, dim=0)) # dimension : 같은 인덱스끼리만 더하기\n",
    "print(\"모든 원소의 곱: \", torch.prod(y))\n",
    "print(\"중복된 값 제거: \", torch.unique(torch.tensor([1, 1, 2, 2, 2, 3, 3, 3, 4, 4, 4, 4]))) \n"
   ]
  },
  {
   "cell_type": "markdown",
   "metadata": {},
   "source": [
    "### 2-3. 내적(dot product)"
   ]
  },
  {
   "cell_type": "code",
   "execution_count": 13,
   "metadata": {},
   "outputs": [
    {
     "name": "stdout",
     "output_type": "stream",
     "text": [
      "tensor([[19, 22],\n",
      "        [43, 50]])\n"
     ]
    }
   ],
   "source": [
    "x = torch.tensor([[1,2],    \n",
    "                  [3,4]])\n",
    "y = torch.tensor([[5,6],    \n",
    "                  [7,8]])\n",
    "\n",
    "result = torch.matmul(x,y) # 행렬의 연산\n",
    "print(result)"
   ]
  }
 ],
 "metadata": {
  "kernelspec": {
   "display_name": "pytorch_env",
   "language": "python",
   "name": "python3"
  },
  "language_info": {
   "codemirror_mode": {
    "name": "ipython",
    "version": 3
   },
   "file_extension": ".py",
   "mimetype": "text/x-python",
   "name": "python",
   "nbconvert_exporter": "python",
   "pygments_lexer": "ipython3",
   "version": "3.12.8"
  }
 },
 "nbformat": 4,
 "nbformat_minor": 2
}
