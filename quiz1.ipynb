{
 "cells": [
  {
   "cell_type": "markdown",
   "metadata": {},
   "source": [
    "## PyTorch Quiz 1 : Tensor 초기화"
   ]
  },
  {
   "cell_type": "markdown",
   "metadata": {},
   "source": [
    "### 1. 빈 Tensor 생성하기\n",
    "다음 조건에 맞는 Tensor를 생성하세요.\n",
    "- 3x4 크기의 Tensor\n",
    "- 값이 초기화되지 않은 상태"
   ]
  },
  {
   "cell_type": "code",
   "execution_count": 2,
   "metadata": {},
   "outputs": [
    {
     "name": "stdout",
     "output_type": "stream",
     "text": [
      "tensor([[0., 0., 0., 0.],\n",
      "        [0., 0., 0., 0.],\n",
      "        [0., 0., 0., 0.]])\n"
     ]
    }
   ],
   "source": [
    "import torch\n",
    "import numpy as np\n",
    "\n",
    "tensor = torch.empty( 3, 4)\n",
    "print(tensor)"
   ]
  },
  {
   "cell_type": "markdown",
   "metadata": {},
   "source": [
    "### 2. 0으로 채워진 Tensor 생성하기\n",
    "다음과 같은 Tensor를 생성하세요.\n",
    "- 2x5x3 크기의 Tensor\n",
    "- 데이터 타입은 float64"
   ]
  },
  {
   "cell_type": "code",
   "execution_count": 3,
   "metadata": {},
   "outputs": [
    {
     "name": "stdout",
     "output_type": "stream",
     "text": [
      "tensor([[[0., 0., 0.],\n",
      "         [0., 0., 0.],\n",
      "         [0., 0., 0.],\n",
      "         [0., 0., 0.],\n",
      "         [0., 0., 0.]],\n",
      "\n",
      "        [[0., 0., 0.],\n",
      "         [0., 0., 0.],\n",
      "         [0., 0., 0.],\n",
      "         [0., 0., 0.],\n",
      "         [0., 0., 0.]]], dtype=torch.float64)\n"
     ]
    }
   ],
   "source": [
    "tensor = torch.zeros(2,5,3, dtype= torch.float64)\n",
    "print(tensor)"
   ]
  },
  {
   "cell_type": "markdown",
   "metadata": {},
   "source": [
    "### 3. 1로 채워진 Tensor 생성하기\n",
    "다음 조건에 맞는 Tensor를 생성하세요.\n",
    "- 4x4 크기의 Tensor\n",
    "- 데이터 타입은 int"
   ]
  },
  {
   "cell_type": "code",
   "execution_count": 5,
   "metadata": {},
   "outputs": [
    {
     "name": "stdout",
     "output_type": "stream",
     "text": [
      "tensor([[1, 1, 1, 1],\n",
      "        [1, 1, 1, 1],\n",
      "        [1, 1, 1, 1],\n",
      "        [1, 1, 1, 1]], dtype=torch.int32)\n"
     ]
    }
   ],
   "source": [
    "tensor = torch.ones(4,4, dtype = torch.int) # int : int32, long : int64\n",
    "print(tensor)"
   ]
  },
  {
   "cell_type": "markdown",
   "metadata": {},
   "source": [
    "### 4. 랜덤 값으로 채워진 Tensor 생성하기\n",
    "다음 조건에 맞는 Tensor를 생성하세요.\n",
    "- 3x3 크기의 Tensor\n",
    "- 모든 값이 0과 1 사이의 랜덤 값"
   ]
  },
  {
   "cell_type": "code",
   "execution_count": 6,
   "metadata": {},
   "outputs": [
    {
     "name": "stdout",
     "output_type": "stream",
     "text": [
      "tensor([[0.4875, 0.9447, 0.7628],\n",
      "        [0.3073, 0.6142, 0.6079],\n",
      "        [0.8036, 0.2645, 0.3233]])\n"
     ]
    }
   ],
   "source": [
    "tensor = torch.rand(3,3)\n",
    "print(tensor)"
   ]
  },
  {
   "cell_type": "markdown",
   "metadata": {},
   "source": [
    "### 5. 다차원 Tensor 생성하기\n",
    "다음과 같은 다차원 Tensor를 생성하세요.\n",
    "- 값이 다음과 같은 2x3의 2D 배열\n",
    "    ```\n",
    "    [[1, 2, 3],\n",
    "     [4, 5, 6]]\n",
    "    ```"
   ]
  },
  {
   "cell_type": "code",
   "execution_count": 7,
   "metadata": {},
   "outputs": [
    {
     "data": {
      "text/plain": [
       "tensor([[1, 2, 3],\n",
       "        [4, 5, 6]])"
      ]
     },
     "execution_count": 7,
     "metadata": {},
     "output_type": "execute_result"
    }
   ],
   "source": [
    "tensor = torch.tensor([[1, 2, 3],[4, 5, 6]])\n",
    "tensor"
   ]
  },
  {
   "cell_type": "markdown",
   "metadata": {},
   "source": [
    "### 6. Tensor의 값을 변경하기\n",
    "1. 표준정규분포의 값을 랜덤으로 갖는 2x2 Tensor를 생성하세요.\n",
    "2. 생성된 Tensor의 값을 모두 0으로 바꿔보세요. "
   ]
  },
  {
   "cell_type": "code",
   "execution_count": 14,
   "metadata": {},
   "outputs": [
    {
     "name": "stdout",
     "output_type": "stream",
     "text": [
      "tensor([[-0.9014, -0.2163],\n",
      "        [-1.9221,  0.1151]])\n",
      "tensor([[0., 0.],\n",
      "        [0., 0.]])\n"
     ]
    }
   ],
   "source": [
    "tensor = torch.randn(2,2)\n",
    "print(tensor)\n",
    "\n",
    "# 0으로 바꾸기\n",
    "result = torch.zeros_like(tensor)\n",
    "print(result)"
   ]
  }
 ],
 "metadata": {
  "kernelspec": {
   "display_name": "pytorch_env",
   "language": "python",
   "name": "python3"
  },
  "language_info": {
   "codemirror_mode": {
    "name": "ipython",
    "version": 3
   },
   "file_extension": ".py",
   "mimetype": "text/x-python",
   "name": "python",
   "nbconvert_exporter": "python",
   "pygments_lexer": "ipython3",
   "version": "3.12.8"
  }
 },
 "nbformat": 4,
 "nbformat_minor": 2
}
