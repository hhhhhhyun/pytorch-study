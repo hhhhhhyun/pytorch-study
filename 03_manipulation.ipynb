{
 "cells": [
  {
   "cell_type": "markdown",
   "metadata": {},
   "source": [
    "## 03.Tensor의 조작"
   ]
  },
  {
   "cell_type": "markdown",
   "metadata": {},
   "source": [
    "### 3-4. 인덱싱, 슬라이싱\n",
    "- numpy처럼 활용"
   ]
  },
  {
   "cell_type": "code",
   "execution_count": 1,
   "metadata": {},
   "outputs": [],
   "source": [
    "import torch"
   ]
  },
  {
   "cell_type": "code",
   "execution_count": 14,
   "metadata": {},
   "outputs": [
    {
     "name": "stdout",
     "output_type": "stream",
     "text": [
      "tensor(1)\n",
      "tensor([1, 2])\n",
      "tensor([4, 5])\n"
     ]
    },
    {
     "data": {
      "text/plain": [
       "tensor([2, 6])"
      ]
     },
     "execution_count": 14,
     "metadata": {},
     "output_type": "execute_result"
    }
   ],
   "source": [
    "tensor = torch.tensor([[1,2],[3,4]])\n",
    "\n",
    "# 1 불러오기\n",
    "print(tensor[0,0]) \n",
    "# 1,2 불러오기\n",
    "print(tensor[0,:]) \n",
    "\n",
    "a = torch.tensor([1,2,3,4,5])\n",
    "\n",
    "# 뒤에서 2개 불러오기\n",
    "print(a[-2:])\n",
    "\n",
    "b = torch.tensor([[1,2,3],[4,5,6],[7,8,9]])\n",
    "# 조건부로 불러오기\n",
    "c = b[b > 3]\n",
    "d = b[b % 2 == 0]\n",
    "# 배열에 값을 넣어 인덱싱 할 수 도있음\n",
    "e = b[[0,1],[1,2]]\n",
    "e\n"
   ]
  },
  {
   "cell_type": "markdown",
   "metadata": {},
   "source": [
    "### 3-2. 텐서의 크기, 모양 변경"
   ]
  },
  {
   "cell_type": "code",
   "execution_count": 15,
   "metadata": {},
   "outputs": [
    {
     "name": "stdout",
     "output_type": "stream",
     "text": [
      "tensor([[0.6534, 0.3283, 0.9283, 0.7074, 0.0874],\n",
      "        [0.8731, 0.8349, 0.1404, 0.2478, 0.5689],\n",
      "        [0.5329, 0.7973, 0.0921, 0.0440, 0.1745],\n",
      "        [0.8404, 0.6732, 0.3460, 0.6596, 0.4200]])\n",
      "tensor([[0.6534, 0.3283, 0.9283, 0.7074],\n",
      "        [0.0874, 0.8731, 0.8349, 0.1404],\n",
      "        [0.2478, 0.5689, 0.5329, 0.7973],\n",
      "        [0.0921, 0.0440, 0.1745, 0.8404],\n",
      "        [0.6732, 0.3460, 0.6596, 0.4200]])\n",
      "tensor([[0.6534, 0.3283],\n",
      "        [0.9283, 0.7074],\n",
      "        [0.0874, 0.8731],\n",
      "        [0.8349, 0.1404],\n",
      "        [0.2478, 0.5689],\n",
      "        [0.5329, 0.7973],\n",
      "        [0.0921, 0.0440],\n",
      "        [0.1745, 0.8404],\n",
      "        [0.6732, 0.3460],\n",
      "        [0.6596, 0.4200]])\n"
     ]
    }
   ],
   "source": [
    "t = torch.rand(4,5)\n",
    "print(t)\n",
    "\n",
    "x = t.view(5,4)\n",
    "print(x)\n",
    "\n",
    "y = t.view(10,-1)\n",
    "print(y)"
   ]
  },
  {
   "cell_type": "markdown",
   "metadata": {},
   "source": [
    "### 3-3. Tensor의 숫자 얻기"
   ]
  },
  {
   "cell_type": "code",
   "execution_count": 16,
   "metadata": {},
   "outputs": [
    {
     "name": "stdout",
     "output_type": "stream",
     "text": [
      "10\n",
      "tensor([0.0144])\n",
      "0.014395475387573242\n"
     ]
    }
   ],
   "source": [
    "x = torch.tensor(10)\n",
    "print(x.item())\n",
    "\n",
    "y = torch.rand(1)\n",
    "print(y)\n",
    "print(y.item())"
   ]
  },
  {
   "cell_type": "markdown",
   "metadata": {},
   "source": [
    "### 3-4. 차원 축소와 증가"
   ]
  },
  {
   "cell_type": "markdown",
   "metadata": {},
   "source": [
    "#### 3-4-1. 차원 축소\n",
    "- ' torch.squeeze() ' : 크기가 1인 차원을 축소함 "
   ]
  },
  {
   "cell_type": "code",
   "execution_count": 17,
   "metadata": {},
   "outputs": [
    {
     "name": "stdout",
     "output_type": "stream",
     "text": [
      "tensor([[[0.9888, 0.7386, 0.0171],\n",
      "         [0.9166, 0.9226, 0.3475]]])\n",
      "torch.Size([1, 2, 3])\n",
      "tensor([[0.9888, 0.7386, 0.0171],\n",
      "        [0.9166, 0.9226, 0.3475]])\n",
      "torch.Size([2, 3])\n"
     ]
    }
   ],
   "source": [
    "t = torch.rand(1,2,3)\n",
    "print(t)\n",
    "print(t.shape)\n",
    "\n",
    "ts = torch.squeeze(t)\n",
    "print(ts)\n",
    "print(ts.shape)\n"
   ]
  },
  {
   "cell_type": "markdown",
   "metadata": {},
   "source": [
    "#### 3-4-2. 차원 증가(생성)\n",
    "- 'torch.unsqueeze()': 지정한 위치에 새로운 차원을 생성"
   ]
  },
  {
   "cell_type": "code",
   "execution_count": 22,
   "metadata": {},
   "outputs": [
    {
     "name": "stdout",
     "output_type": "stream",
     "text": [
      "tensor([[[0.6768, 0.8224, 0.4707],\n",
      "         [0.5548, 0.7149, 0.3330],\n",
      "         [0.7708, 0.7036, 0.2263]],\n",
      "\n",
      "        [[0.8952, 0.2965, 0.7786],\n",
      "         [0.9183, 0.0995, 0.0646],\n",
      "         [0.8562, 0.3367, 0.5451]],\n",
      "\n",
      "        [[0.9782, 0.0339, 0.9627],\n",
      "         [0.3415, 0.8067, 0.1165],\n",
      "         [0.0320, 0.8144, 0.4789]]])\n",
      "torch.Size([3, 3, 3])\n",
      "tensor([[[[0.6768, 0.8224, 0.4707],\n",
      "          [0.5548, 0.7149, 0.3330],\n",
      "          [0.7708, 0.7036, 0.2263]],\n",
      "\n",
      "         [[0.8952, 0.2965, 0.7786],\n",
      "          [0.9183, 0.0995, 0.0646],\n",
      "          [0.8562, 0.3367, 0.5451]],\n",
      "\n",
      "         [[0.9782, 0.0339, 0.9627],\n",
      "          [0.3415, 0.8067, 0.1165],\n",
      "          [0.0320, 0.8144, 0.4789]]]])\n",
      "torch.Size([1, 3, 3, 3])\n"
     ]
    }
   ],
   "source": [
    "t = torch.rand(3,3,3)\n",
    "print(t)\n",
    "print(t.shape)\n",
    "\n",
    "ts = torch.unsqueeze(t,0)\n",
    "print(ts)\n",
    "print(ts.shape)\n"
   ]
  },
  {
   "cell_type": "markdown",
   "metadata": {},
   "source": [
    "### 3-5. 텐서간 결합\n",
    "- 'torch.stack()' : 동일한 형식의 텐서를 새롭게 그룹화함"
   ]
  },
  {
   "cell_type": "code",
   "execution_count": 24,
   "metadata": {},
   "outputs": [
    {
     "name": "stdout",
     "output_type": "stream",
     "text": [
      "tensor([[[1, 2],\n",
      "         [3, 4]],\n",
      "\n",
      "        [[5, 6],\n",
      "         [7, 8]]])\n",
      "torch.Size([2, 2, 2])\n"
     ]
    }
   ],
   "source": [
    "x = torch.tensor([[1,2],[3,4]])\n",
    "y = torch.tensor([[5,6],[7,8]])\n",
    "z = torch.stack([x,y])\n",
    "print(z)\n",
    "print(z.shape)\n"
   ]
  },
  {
   "cell_type": "markdown",
   "metadata": {},
   "source": [
    "- 'torch.cat()': 하나의 텐서로 병합\n",
    "    - 새로운 차원 생성x"
   ]
  },
  {
   "cell_type": "code",
   "execution_count": 31,
   "metadata": {},
   "outputs": [
    {
     "name": "stdout",
     "output_type": "stream",
     "text": [
      "tensor([[1, 2],\n",
      "        [3, 4],\n",
      "        [5, 6],\n",
      "        [7, 8]])\n"
     ]
    }
   ],
   "source": [
    "x = torch.tensor([[1,2],[3,4]])\n",
    "y = torch.tensor([[5,6],[7,8]])\n",
    "z = torch.cat((x,y), dim = 0) # dim = 1 로 하면 2행으로 합쳐진다.\n",
    "print(z) # 열의 갯수는 맞아야하지만 행의 원소의 갯수는 달라도 된다."
   ]
  },
  {
   "cell_type": "markdown",
   "metadata": {},
   "source": [
    "### 3-6. 텐서 나누기\n",
    "- ' torch.chunk() '\n",
    "    - 텐서를 몇개로 나눌지 지정\n",
    "    - 나누어 떨어지지 않으면 마지막 조각은 크기가 다를 수 있음"
   ]
  },
  {
   "cell_type": "code",
   "execution_count": 41,
   "metadata": {},
   "outputs": [
    {
     "name": "stdout",
     "output_type": "stream",
     "text": [
      "tensor([[0.3233, 0.5659, 0.8566],\n",
      "        [0.9760, 0.2221, 0.1033],\n",
      "        [0.8389, 0.9048, 0.2139],\n",
      "        [0.4742, 0.8267, 0.4229],\n",
      "        [0.9190, 0.9018, 0.8050]])\n",
      "tensor([[0.3233, 0.5659, 0.8566],\n",
      "        [0.9760, 0.2221, 0.1033]])\n",
      "tensor([[0.8389, 0.9048, 0.2139],\n",
      "        [0.4742, 0.8267, 0.4229]])\n",
      "tensor([[0.9190, 0.9018, 0.8050]])\n",
      "tensor([[0.0194, 0.9902, 0.0434],\n",
      "        [0.9355, 0.7568, 0.1175],\n",
      "        [0.1456, 0.5930, 0.1632],\n",
      "        [0.1791, 0.4370, 0.4595],\n",
      "        [0.7364, 0.2124, 0.0998]])\n",
      "tensor([[0.0194, 0.9902, 0.0434],\n",
      "        [0.9355, 0.7568, 0.1175]])\n",
      "tensor([[0.1456, 0.5930, 0.1632],\n",
      "        [0.1791, 0.4370, 0.4595]])\n",
      "tensor([[0.7364, 0.2124, 0.0998]])\n"
     ]
    }
   ],
   "source": [
    "# 기본 형태\n",
    "t = torch.rand(5,3)\n",
    "print(t) \n",
    "\n",
    "a,b,c = torch.chunk(t, 3, dim = 0)\n",
    "print(a)\n",
    "print(b)\n",
    "print(c)\n",
    "\n",
    "# 나누어 떨어지지 않아 마지막 조각의 크기가 다른 경우\n",
    "t_1 = torch.rand(5,3)\n",
    "print(t) \n",
    "\n",
    "a_1,b_1,c_1 = torch.chunk(t_1, 3, dim = 0)\n",
    "print(a_1)\n",
    "print(b_1)\n",
    "print(c_1)\n"
   ]
  },
  {
   "cell_type": "markdown",
   "metadata": {},
   "source": [
    "- ' torch.split() ': 텐서의 크기를 기준으로 나눔 "
   ]
  },
  {
   "cell_type": "code",
   "execution_count": 47,
   "metadata": {},
   "outputs": [
    {
     "name": "stdout",
     "output_type": "stream",
     "text": [
      "tensor([[0.1653, 0.1525, 0.6603],\n",
      "        [0.7076, 0.0174, 0.6221],\n",
      "        [0.4387, 0.8817, 0.5313],\n",
      "        [0.4451, 0.4934, 0.0479],\n",
      "        [0.1103, 0.1674, 0.1500],\n",
      "        [0.4324, 0.4915, 0.0149]])\n",
      "tensor([[0.1653, 0.1525, 0.6603],\n",
      "        [0.7076, 0.0174, 0.6221],\n",
      "        [0.4387, 0.8817, 0.5313]])\n",
      "tensor([[0.4451, 0.4934, 0.0479],\n",
      "        [0.1103, 0.1674, 0.1500],\n",
      "        [0.4324, 0.4915, 0.0149]])\n"
     ]
    }
   ],
   "source": [
    "# 기본\n",
    "t = torch.rand(6,3)\n",
    "print(t)\n",
    "\n",
    "x, y = torch.split(t, 3, dim=0)\n",
    "print(x)\n",
    "print(y)"
   ]
  },
  {
   "cell_type": "code",
   "execution_count": 51,
   "metadata": {},
   "outputs": [
    {
     "name": "stdout",
     "output_type": "stream",
     "text": [
      "tensor([1, 2, 3, 4, 5])\n",
      "tensor([1, 2])\n",
      "tensor([3, 4])\n",
      "tensor([5])\n"
     ]
    }
   ],
   "source": [
    "# 배열 형태로 쪼개기도 가능\n",
    "t = torch.tensor([1,2,3,4,5])\n",
    "print(t)\n",
    "\n",
    "x, y, z = torch.split(t, [2,2,1], dim=0)\n",
    "print(x)\n",
    "print(y)\n",
    "print(z)"
   ]
  }
 ],
 "metadata": {
  "kernelspec": {
   "display_name": "pytorch_env",
   "language": "python",
   "name": "python3"
  },
  "language_info": {
   "codemirror_mode": {
    "name": "ipython",
    "version": 3
   },
   "file_extension": ".py",
   "mimetype": "text/x-python",
   "name": "python",
   "nbconvert_exporter": "python",
   "pygments_lexer": "ipython3",
   "version": "3.12.8"
  }
 },
 "nbformat": 4,
 "nbformat_minor": 2
}
