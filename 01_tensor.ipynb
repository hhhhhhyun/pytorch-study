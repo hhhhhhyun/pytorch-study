{
 "cells": [
  {
   "cell_type": "markdown",
   "metadata": {},
   "source": [
    "## 01. 텐서 초기화\n",
    "- 초기화 : 텐서에 특정 값을 채워서 생성하는 것"
   ]
  },
  {
   "cell_type": "code",
   "execution_count": 3,
   "metadata": {},
   "outputs": [
    {
     "data": {
      "text/plain": [
       "'2.5.1'"
      ]
     },
     "execution_count": 3,
     "metadata": {},
     "output_type": "execute_result"
    }
   ],
   "source": [
    "import torch\n",
    "import numpy as np\n",
    "\n",
    "# pytorch 버전 확인\n",
    "torch.__version__"
   ]
  },
  {
   "cell_type": "markdown",
   "metadata": {},
   "source": [
    "### 1-1. 초기화 되지 않은 Tensor\n",
    "- 특정한 값이 채워지지 않은 상태로 생성하는 것"
   ]
  },
  {
   "cell_type": "code",
   "execution_count": 4,
   "metadata": {},
   "outputs": [
    {
     "name": "stdout",
     "output_type": "stream",
     "text": [
      "tensor([[-2.5530e+38,  2.0809e-42],\n",
      "        [ 0.0000e+00,  0.0000e+00],\n",
      "        [ 0.0000e+00,  0.0000e+00],\n",
      "        [ 0.0000e+00,  0.0000e+00]])\n"
     ]
    }
   ],
   "source": [
    "tensor = torch.empty(4, 2)\n",
    "print(tensor)"
   ]
  },
  {
   "cell_type": "markdown",
   "metadata": {},
   "source": [
    "### 1-2. 상수로 초기화된 Tensor\n",
    "- ' torch.zeros() '\n",
    "- ' torch.ones '"
   ]
  },
  {
   "cell_type": "code",
   "execution_count": 9,
   "metadata": {},
   "outputs": [
    {
     "name": "stdout",
     "output_type": "stream",
     "text": [
      "tensor([[1, 1, 1, 1],\n",
      "        [1, 1, 1, 1],\n",
      "        [1, 1, 1, 1]])\n",
      "tensor([[0., 0.],\n",
      "        [0., 0.]])\n"
     ]
    }
   ],
   "source": [
    "a = torch.ones(3,4, dtype = torch.long) # dtype으로 데이터 타입을 지정하 수 있다.\n",
    "b = torch.zeros(2,2)\n",
    "print(a)\n",
    "print(b)"
   ]
  },
  {
   "cell_type": "markdown",
   "metadata": {},
   "source": [
    "### 1-3. 무작위하게 초기화된 Tensor\n",
    "- ' torch.rand ' : 0~1 사이의 값으로 무작위로 초기화\n",
    "- ' torch.randn ' : 표준정규분포에서 무작위로 초기화"
   ]
  },
  {
   "cell_type": "code",
   "execution_count": 13,
   "metadata": {},
   "outputs": [
    {
     "name": "stdout",
     "output_type": "stream",
     "text": [
      "tensor([[0.3608, 0.0265, 0.8923],\n",
      "        [0.2300, 0.2533, 0.4247],\n",
      "        [0.3179, 0.8350, 0.6486]]) tensor([[ 0.3992,  1.0497, -1.2801],\n",
      "        [ 1.7578, -0.8634,  1.8700],\n",
      "        [ 0.7134,  0.0763,  1.2053]])\n"
     ]
    }
   ],
   "source": [
    "a = torch.rand(3,3)\n",
    "b = torch.randn(3,3)\n",
    "print(a,b)"
   ]
  },
  {
   "cell_type": "markdown",
   "metadata": {},
   "source": [
    "### 1-4. 직접 입력한 값으로 초기화"
   ]
  },
  {
   "cell_type": "code",
   "execution_count": 14,
   "metadata": {},
   "outputs": [
    {
     "data": {
      "text/plain": [
       "tensor([1.0000, 2.3000])"
      ]
     },
     "execution_count": 14,
     "metadata": {},
     "output_type": "execute_result"
    }
   ],
   "source": [
    "a = torch.tensor([1, 2.3])\n",
    "a"
   ]
  },
  {
   "cell_type": "markdown",
   "metadata": {},
   "source": [
    "### 1-5. Numpy 배열로부터 초기화"
   ]
  },
  {
   "cell_type": "code",
   "execution_count": 24,
   "metadata": {},
   "outputs": [
    {
     "data": {
      "text/plain": [
       "numpy.ndarray"
      ]
     },
     "execution_count": 24,
     "metadata": {},
     "output_type": "execute_result"
    }
   ],
   "source": [
    "nd_arr = np.array([1, 2, 3])\n",
    "a = torch.from_numpy(nd_arr)\n",
    "\n",
    "# numpy array로 변환\n",
    "b = torch.tensor([1,2,3])\n",
    "new_nd = b.numpy()\n",
    "\n",
    "type(new_nd)"
   ]
  },
  {
   "cell_type": "code",
   "execution_count": 26,
   "metadata": {},
   "outputs": [
    {
     "name": "stdout",
     "output_type": "stream",
     "text": [
      "[  1   2 100   4   5]\n",
      "tensor([  1,   2, 100,   4,   5])\n"
     ]
    }
   ],
   "source": [
    "nd_arr = np.array([1, 2, 3])\n",
    "a = torch.from_numpy(nd_arr)\n",
    "\n",
    "# numpy array로 변환\n",
    "b = torch.tensor([1,2,3,4,5])\n",
    "new_nd = b.numpy()\n",
    "new_nd[2] = 100\n",
    "\n",
    "print(new_nd)\n",
    "print(b)"
   ]
  },
  {
   "cell_type": "markdown",
   "metadata": {},
   "source": [
    "### 1-6. 특정 텐서와 같은 사이즈, 무작위로 값을 채움"
   ]
  },
  {
   "cell_type": "code",
   "execution_count": 21,
   "metadata": {},
   "outputs": [
    {
     "data": {
      "text/plain": [
       "tensor([[0., 0., 0., 0.],\n",
       "        [0., 0., 0., 0.],\n",
       "        [0., 0., 0., 0.]])"
      ]
     },
     "execution_count": 21,
     "metadata": {},
     "output_type": "execute_result"
    }
   ],
   "source": [
    "a = torch.ones(3,4, dtype = torch.long) \n",
    "b = torch.zeros_like(a, dtype = torch.float)\n",
    "b"
   ]
  },
  {
   "cell_type": "markdown",
   "metadata": {},
   "source": [
    "### 1-7. 텐서의 속성"
   ]
  },
  {
   "cell_type": "code",
   "execution_count": 5,
   "metadata": {},
   "outputs": [
    {
     "name": "stdout",
     "output_type": "stream",
     "text": [
      "torch.Size([3, 4])\n",
      "torch.Size([3, 4])\n",
      "torch.float64\n",
      "cpu\n"
     ]
    }
   ],
   "source": [
    "tensor = torch.rand(3,4, dtype=torch.float64)\n",
    "print(tensor.size()) # 사이즈\n",
    "print(tensor.shape) # 사이즈\n",
    "print(tensor.dtype) # 데이터 타입\n",
    "print(tensor.device) # 디바이스"
   ]
  },
  {
   "cell_type": "markdown",
   "metadata": {},
   "source": [
    "### 1-8. 특정 타입의 텐서 생성"
   ]
  },
  {
   "cell_type": "code",
   "execution_count": 13,
   "metadata": {},
   "outputs": [
    {
     "data": {
      "text/plain": [
       "torch.int32"
      ]
     },
     "execution_count": 13,
     "metadata": {},
     "output_type": "execute_result"
    }
   ],
   "source": [
    "tensor = torch.rand(3,4, dtype=torch.float64)\n",
    "\n",
    "new_tensor = torch.FloatTensor([1,2,3])\n",
    "new_tensor.dtype\n",
    "\n",
    "int_tensor = torch.IntTensor([1,2,3])\n",
    "int_tensor.dtype"
   ]
  },
  {
   "cell_type": "code",
   "execution_count": 14,
   "metadata": {},
   "outputs": [
    {
     "name": "stdout",
     "output_type": "stream",
     "text": [
      "torch.float32\n",
      "torch.int32\n"
     ]
    }
   ],
   "source": [
    "tensor = torch.rand(3,4, dtype=torch.float64)\n",
    "\n",
    "new_tensor = torch.FloatTensor([1,2,3])\n",
    "print(new_tensor.dtype)\n",
    "\n",
    "int_tensor = torch.IntTensor([1.1,2.1,3.1])\n",
    "print(int_tensor.dtype)"
   ]
  },
  {
   "cell_type": "markdown",
   "metadata": {},
   "source": [
    "### 1-9. 데이터 타입 캐스팅"
   ]
  },
  {
   "cell_type": "code",
   "execution_count": 15,
   "metadata": {},
   "outputs": [
    {
     "name": "stdout",
     "output_type": "stream",
     "text": [
      "tensor([1, 2, 3], dtype=torch.int32)\n",
      "tensor([1., 2., 3.])\n"
     ]
    }
   ],
   "source": [
    "float_tensor = torch.FloatTensor([1,2,3])\n",
    "print(float_tensor.int())\n",
    "\n",
    "int_tensor = torch.IntTensor([1.1,2.1,3.1])\n",
    "print(int_tensor.float())"
   ]
  },
  {
   "cell_type": "markdown",
   "metadata": {},
   "source": [
    "### 1-10. CUDA Tensor"
   ]
  },
  {
   "cell_type": "code",
   "execution_count": 19,
   "metadata": {},
   "outputs": [
    {
     "data": {
      "text/plain": [
       "device(type='cuda', index=0)"
      ]
     },
     "execution_count": 19,
     "metadata": {},
     "output_type": "execute_result"
    }
   ],
   "source": [
    "tensor = torch.rand(3,4, dtype=torch.float64)\n",
    "device = torch.device(\"cuda\" if torch.cuda.is_available() else \"cpu\")\n",
    "\n",
    "tensor = tensor.to(device)\n",
    "tensor.device"
   ]
  },
  {
   "cell_type": "markdown",
   "metadata": {},
   "source": [
    "### 1-11. 다차원 Tensor 표현"
   ]
  },
  {
   "cell_type": "markdown",
   "metadata": {},
   "source": [
    "#### 1-11-1. 0D Tensor(Scalar)\n",
    "- 하나의 값을 담고 있는 텐서"
   ]
  },
  {
   "cell_type": "code",
   "execution_count": 23,
   "metadata": {},
   "outputs": [
    {
     "name": "stdout",
     "output_type": "stream",
     "text": [
      "0\n",
      "torch.Size([])\n",
      "tensor(100)\n"
     ]
    }
   ],
   "source": [
    "t0 = torch.tensor(100)\n",
    "print(t0.ndim)\n",
    "print(t0.shape)\n",
    "print(t0)"
   ]
  },
  {
   "cell_type": "markdown",
   "metadata": {},
   "source": [
    "#### 1-11-2. 1D Tensor(Vector)\n",
    "- 값들을 저장하고 있는 리스트와 유사한 텐서"
   ]
  },
  {
   "cell_type": "code",
   "execution_count": 24,
   "metadata": {},
   "outputs": [
    {
     "name": "stdout",
     "output_type": "stream",
     "text": [
      "1\n",
      "torch.Size([3])\n",
      "tensor([1, 2, 3])\n"
     ]
    }
   ],
   "source": [
    "t1 = torch.tensor([1,2,3])\n",
    "print(t1.ndim)\n",
    "print(t1.shape)\n",
    "print(t1)"
   ]
  },
  {
   "cell_type": "markdown",
   "metadata": {},
   "source": [
    "#### 1-11-3. 2D Tensor(Matrix)\n",
    "- 행렬과 같은 모양으로 두개의 축이 존재"
   ]
  },
  {
   "cell_type": "code",
   "execution_count": null,
   "metadata": {},
   "outputs": [],
   "source": [
    "t2 = torch.tensor([[1,2,3],[4,5,6]])\n",
    "print(t2.ndim)\n",
    "print(t2.shape)\n",
    "print(t2)"
   ]
  },
  {
   "cell_type": "markdown",
   "metadata": {},
   "source": [
    "#### 1-11-3. 3D Tensor(Cube)\n",
    "- 큐브와 같은 형태로 세 개의 축이 존재"
   ]
  },
  {
   "cell_type": "code",
   "execution_count": 26,
   "metadata": {},
   "outputs": [
    {
     "name": "stdout",
     "output_type": "stream",
     "text": [
      "3\n",
      "torch.Size([3, 3, 3])\n",
      "tensor([[[1, 2, 3],\n",
      "         [4, 5, 6],\n",
      "         [7, 8, 9]],\n",
      "\n",
      "        [[1, 2, 3],\n",
      "         [4, 5, 6],\n",
      "         [7, 8, 9]],\n",
      "\n",
      "        [[1, 2, 3],\n",
      "         [4, 5, 6],\n",
      "         [7, 8, 9]]])\n"
     ]
    }
   ],
   "source": [
    "t3 = torch.tensor([[[1,2,3],[4,5,6], [7,8,9]],\n",
    "                    [[1,2,3],[4,5,6], [7,8,9]],    \n",
    "                    [[1,2,3],[4,5,6], [7,8,9]]])\n",
    "print(t3.ndim)\n",
    "print(t3.shape)\n",
    "print(t3)"
   ]
  },
  {
   "cell_type": "markdown",
   "metadata": {},
   "source": [
    "#### 1-11-4. 4D Tensor\n",
    "- 4개의 축"
   ]
  },
  {
   "cell_type": "code",
   "execution_count": 29,
   "metadata": {},
   "outputs": [
    {
     "data": {
      "text/plain": [
       "tensor([[[[0.2808, 0.0581, 0.2760, 0.5110, 0.4235],\n",
       "          [0.4657, 0.1686, 0.1997, 0.2325, 0.9062],\n",
       "          [0.5180, 0.4762, 0.4724, 0.1336, 0.8375],\n",
       "          [0.3562, 0.1991, 0.7776, 0.8742, 0.1258]],\n",
       "\n",
       "         [[0.0917, 0.5499, 0.2960, 0.0514, 0.0253],\n",
       "          [0.8945, 0.8464, 0.2661, 0.0240, 0.2402],\n",
       "          [0.3412, 0.1044, 0.6208, 0.9690, 0.0577],\n",
       "          [0.4781, 0.2349, 0.8576, 0.9903, 0.6114]],\n",
       "\n",
       "         [[0.3020, 0.4271, 0.7027, 0.1628, 0.1960],\n",
       "          [0.9405, 0.5170, 0.7809, 0.4762, 0.9100],\n",
       "          [0.9587, 0.2464, 0.7410, 0.6530, 0.5977],\n",
       "          [0.2874, 0.0548, 0.3313, 0.1304, 0.4119]]],\n",
       "\n",
       "\n",
       "        [[[0.8594, 0.6025, 0.4757, 0.7333, 0.8824],\n",
       "          [0.5760, 0.0862, 0.6836, 0.8643, 0.1928],\n",
       "          [0.1150, 0.3962, 0.4746, 0.4705, 0.9228],\n",
       "          [0.7683, 0.2111, 0.0703, 0.1829, 0.0657]],\n",
       "\n",
       "         [[0.8619, 0.1726, 0.5005, 0.2880, 0.2260],\n",
       "          [0.2102, 0.5553, 0.3671, 0.0529, 0.8316],\n",
       "          [0.2565, 0.6789, 0.9618, 0.6695, 0.3536],\n",
       "          [0.0724, 0.3537, 0.6893, 0.0954, 0.8098]],\n",
       "\n",
       "         [[0.1968, 0.7866, 0.6116, 0.9071, 0.2846],\n",
       "          [0.0344, 0.6949, 0.1846, 0.3923, 0.1246],\n",
       "          [0.4305, 0.5556, 0.7527, 0.7561, 0.5477],\n",
       "          [0.5925, 0.0818, 0.2867, 0.3164, 0.2385]]]])"
      ]
     },
     "execution_count": 29,
     "metadata": {},
     "output_type": "execute_result"
    }
   ],
   "source": [
    "t4 = torch.rand(2,3,4,5)\n",
    "t4"
   ]
  }
 ],
 "metadata": {
  "kernelspec": {
   "display_name": "pytorch_env",
   "language": "python",
   "name": "python3"
  },
  "language_info": {
   "codemirror_mode": {
    "name": "ipython",
    "version": 3
   },
   "file_extension": ".py",
   "mimetype": "text/x-python",
   "name": "python",
   "nbconvert_exporter": "python",
   "pygments_lexer": "ipython3",
   "version": "3.12.8"
  }
 },
 "nbformat": 4,
 "nbformat_minor": 2
}
